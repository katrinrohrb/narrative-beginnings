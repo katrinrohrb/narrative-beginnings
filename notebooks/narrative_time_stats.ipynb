{
 "cells": [
  {
   "cell_type": "code",
   "execution_count": null,
   "metadata": {},
   "outputs": [],
   "source": [
    "from pathlib import Path\n",
    "drive_dir = Path(\"../\")\n",
    "\n",
    "import sys\n",
    "import os\n",
    "module_path = os.path.abspath(str(drive_dir))\n",
    "sys.path.insert(0, module_path)\n",
    "\n",
    "data_dir = Path(drive_dir, \"data-test/\")\n",
    "results_dir = Path(data_dir, \"results/predict-286-gutenberg\")\n",
    "\n",
    "import katspace as ks\n",
    "import katspace.core\n",
    "\n",
    "from katspace.data import results_from_json\n",
    "\n",
    "import numpy as np\n",
    "import matplotlib.pyplot as plt\n",
    "import pandas as pd\n",
    "import itertools\n",
    "import seaborn as sns\n",
    "\n",
    "import statsmodels.api as sm\n",
    "\n",
    "from functools import reduce\n"
   ]
  },
  {
   "cell_type": "code",
   "execution_count": 3,
   "metadata": {},
   "outputs": [],
   "source": [
    "label2id = {\"perceived_space\": 0, \"action_space\": 1, \"visual_space\": 2, \"descriptive_space\":3, \"no_space\":4}\n",
    "id2label = dict(map(reversed, label2id.items()))\n",
    "space_types = label2id.keys()\n",
    "id_matrix = np.eye(len(label2id), dtype = np.integer)"
   ]
  },
  {
   "cell_type": "code",
   "execution_count": null,
   "metadata": {},
   "outputs": [],
   "source": [
    "def load_all_results_f_json(): \n",
    "\n",
    "    label2id = {\"perceived_space\": 0, \"action_space\": 1, \"visual_space\": 2, \"descriptive_space\":3, \"no_space\":4}\n",
    "    id_matrix = np.eye(len(label2id), dtype = np.integer)\n",
    "    \n",
    "    gutenberg_df = pd.read_excel(Path(data_dir, \"20231216_1_gutenberg_master.xlsx\"), index_col = 0)\n",
    "\n",
    "    file_list = gutenberg_df.filename\n",
    "    results_dic = {filename : results_from_json(filename, results_dir) for filename in file_list}\n",
    "\n",
    "    num_chunks = 20\n",
    "    results_dic = {filename : res for filename, res in results_dic.items() if (res != None) and (len(res) >= num_chunks)}\n",
    "\n",
    "    file_list = results_dic.keys()\n",
    "\n",
    "    space_type_ids_dict = {filename : [label2id[result[\"label\"]] for result in results_dic[filename]] for filename in file_list}\n",
    "    results_a_dict = {filename : id_matrix[space_type_ids_dict[filename]] for filename in file_list}\n",
    "\n",
    "    return results_a_dict, file_list, gutenberg_df\n",
    "    \n",
    "def chunk_data(results_a_dict, num_chunks = 20): \n",
    "    chunk_length_dict = {filename : ks.data.chunk_lengths(len(results_a_dict[filename]), num_chunks) for filename in file_list}\n",
    "    results_chunked_dict = {filename : list(map(sum, ks.data.chunker(results_a_dict[filename], num_chunks = num_chunks))) for filename in file_list}\n",
    "    return chunk_length_dict, results_chunked_dict\n",
    "\n",
    "def mk_time_df(df, exact = False, filename = None):\n",
    "    time_df = pd.DataFrame()\n",
    "    if not exact: \n",
    "        time_tf = np.pi * (df.index / df.index.max())\n",
    "        time_df[\"time_tf\"] = time_tf \n",
    "    elif exact: \n",
    "        time_tf = df[(filename, \"time_tf_n\")]\n",
    "        time_df[\"time_tf\"] = time_tf\n",
    "\n",
    "    time_df[\"sin\"] = np.sin(time_tf)\n",
    "    time_df[\"cos\"] = np.cos(time_tf)\n",
    "\n",
    "    time_df[\"sin2\"] = np.sin(2*time_tf)\n",
    "    time_df[\"cos2\"] = np.cos(2*time_tf)\n",
    "    return time_df"
   ]
  },
  {
   "cell_type": "code",
   "execution_count": 5,
   "metadata": {},
   "outputs": [],
   "source": [
    "results_a_dict, file_list, gutenberg_df = load_all_results_f_json()"
   ]
  },
  {
   "cell_type": "code",
   "execution_count": 7,
   "metadata": {},
   "outputs": [],
   "source": [
    "num_chunks = 20\n",
    "chunk_length_dict, results_chunked_dict = chunk_data(results_a_dict) "
   ]
  },
  {
   "cell_type": "code",
   "execution_count": null,
   "metadata": {},
   "outputs": [],
   "source": [
    "data_dict = {\n",
    "    (filename, space_type) :\n",
    "                            [result[label2id[space_type]] for result in results_chunked_dict[filename]]\n",
    "                              for (filename, space_type) in itertools.product(file_list, space_types)\n",
    "                              } | {\n",
    "                                  (filename, \"all_space\") : [total - result[label2id[\"no_space\"]] for result, total in \n",
    "                                                             zip(results_chunked_dict[filename], chunk_length_dict[filename])]\n",
    "                                                            for filename in file_list\n",
    "                              } | {\n",
    "                                  (filename, \"total\") : chunk_length_dict[filename] for filename in file_list\n",
    "                                  } \n",
    "\n",
    "for filename in file_list:\n",
    "    bin_sizes = data_dict[(filename, \"total\")]\n",
    "    sent_count = [sum(bin_sizes[0:n + 1]) for n in range(len(bin_sizes))]\n",
    "    data_dict[(filename, \"sent_count\")] = sent_count\n",
    "\n",
    "index = pd.MultiIndex.from_product([file_list, list(katspace.core.space_types_ext) + [\"total\", \"sent_count\"]])\n",
    "results_df = pd.DataFrame(data_dict, columns = index)\n",
    "\n",
    "results_df"
   ]
  },
  {
   "cell_type": "code",
   "execution_count": null,
   "metadata": {},
   "outputs": [],
   "source": [
    "temp_dict = {}\n",
    "for filename, space_type in results_df.columns: \n",
    "    col = space_type + \"_n\"   \n",
    "    temp_dict[(filename, col)] = results_df.loc[:,(filename, space_type)] / results_df.loc[:,(filename, \"total\")]\n",
    "\n",
    "\n",
    "normed_df = pd.DataFrame(temp_dict)\n",
    "\n",
    "normed_df.sort_index(axis = \"columns\", inplace = True)\n",
    "normed_df"
   ]
  },
  {
   "cell_type": "code",
   "execution_count": null,
   "metadata": {},
   "outputs": [],
   "source": [
    "time_df = mk_time_df(results_df)\n",
    "\n",
    "def fit(normed_df, space_type, time_df = time_df): \n",
    "    x = pd.DataFrame()\n",
    "    y = pd.Series()\n",
    "\n",
    "    for filename in normed_df.columns.get_level_values(0).unique():\n",
    "        x = pd.concat([x, time_df[['time_tf', \"sin\", \"cos\", \"sin2\", \"cos2\"]]], axis = 0)\n",
    "        y = pd.concat([y, normed_df[(filename, space_type)]], axis = 0)\n",
    "    \n",
    "    xx = sm.add_constant(x) \n",
    "    time_tf = np.pi * np.arange(1,len(normed_df.index) + 1) / len(normed_df.index)\n",
    "    time_tf = sm.add_constant(time_tf)\n",
    "    \n",
    "    model = sm.OLS(y, xx).fit()\n",
    "    \n",
    "    print_model = model.summary()\n",
    "    print(print_model)\n",
    "    return x, y, model\n",
    "\n",
    "def predict(model, time_df = time_df): \n",
    "    time_df = sm.add_constant(time_df) \n",
    "    predictions = model.predict(time_df) \n",
    "    return time_df[\"time_tf\"], predictions"
   ]
  },
  {
   "cell_type": "code",
   "execution_count": null,
   "metadata": {},
   "outputs": [],
   "source": [
    "sns.set_style(\"whitegrid\")\n",
    "sns.set_theme()\n",
    "\n",
    "x, y, model = fit(normed_df, \"all_space_n\")\n",
    "\n",
    "x_pred, predictions = predict(model, time_df)\n",
    "\n",
    "err = normed_df.loc[:,(slice(None), \"all_space_n\")].var(axis = 1)\n",
    "mean = normed_df.loc[:,(slice(None), \"all_space_n\")].mean(axis = 1)\n",
    "\n",
    "plt.scatter(x[\"time_tf\"], y, label = \"data\", s = 1, color = \"#c44e52\")\n",
    "plt.plot(x_pred, predictions, label = \"model\", color = \"#dd8452\")\n",
    "plt.errorbar(x[\"time_tf\"][0:20], mean, yerr=err, uplims= True, lolims= True, linestyle='none', label = \"mean (variance)\", color = \"#9467bd\")\n",
    "plt.legend()\n",
    "_ = plt.title(\"all_space\")"
   ]
  }
 ],
 "metadata": {
  "kernelspec": {
   "display_name": "nb-venv",
   "language": "python",
   "name": "python3"
  },
  "language_info": {
   "codemirror_mode": {
    "name": "ipython",
    "version": 3
   },
   "file_extension": ".py",
   "mimetype": "text/x-python",
   "name": "python",
   "nbconvert_exporter": "python",
   "pygments_lexer": "ipython3",
   "version": "3.10.15"
  },
  "orig_nbformat": 4
 },
 "nbformat": 4,
 "nbformat_minor": 2
}
